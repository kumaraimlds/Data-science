{
 "cells": [
  {
   "cell_type": "code",
   "execution_count": 1,
   "id": "20457373",
   "metadata": {},
   "outputs": [
    {
     "name": "stdout",
     "output_type": "stream",
     "text": [
      "sl_no\n",
      "gender\n",
      "ssc_p\n",
      "ssc_b\n",
      "hsc_p\n",
      "hsc_b\n",
      "hsc_s\n",
      "degree_p\n",
      "degree_t\n",
      "workex\n",
      "etest_p\n",
      "specialisation\n",
      "mba_p\n",
      "status\n",
      "salary\n"
     ]
    }
   ],
   "source": [
    "import pandas as pd\n",
    "dataset=pd.read_csv(\"Placement.csv\")\n",
    "from univariate import Univariate\n",
    "obj=Univariate()\n",
    "quan,qual=obj.QuanQual(dataset)"
   ]
  },
  {
   "cell_type": "code",
   "execution_count": null,
   "id": "126128d7",
   "metadata": {},
   "outputs": [],
   "source": [
    "dataset[\"ssc_p\"].min()"
   ]
  },
  {
   "cell_type": "code",
   "execution_count": null,
   "id": "a483d57c",
   "metadata": {},
   "outputs": [],
   "source": [
    "dataset.isnull().sum()"
   ]
  },
  {
   "cell_type": "code",
   "execution_count": 3,
   "id": "2e79d948",
   "metadata": {},
   "outputs": [],
   "source": [
    "dataset[\"salary\"]=dataset[\"salary\"].fillna(0)"
   ]
  },
  {
   "cell_type": "code",
   "execution_count": 4,
   "id": "bf61669f",
   "metadata": {},
   "outputs": [],
   "source": [
    "Uni=obj.uniAnalysis(dataset,quan)"
   ]
  },
  {
   "cell_type": "code",
   "execution_count": 5,
   "id": "75694a0c",
   "metadata": {},
   "outputs": [
    {
     "data": {
      "text/html": [
       "<div>\n",
       "<style scoped>\n",
       "    .dataframe tbody tr th:only-of-type {\n",
       "        vertical-align: middle;\n",
       "    }\n",
       "\n",
       "    .dataframe tbody tr th {\n",
       "        vertical-align: top;\n",
       "    }\n",
       "\n",
       "    .dataframe thead th {\n",
       "        text-align: right;\n",
       "    }\n",
       "</style>\n",
       "<table border=\"1\" class=\"dataframe\">\n",
       "  <thead>\n",
       "    <tr style=\"text-align: right;\">\n",
       "      <th></th>\n",
       "      <th>sl_no</th>\n",
       "      <th>ssc_p</th>\n",
       "      <th>hsc_p</th>\n",
       "      <th>degree_p</th>\n",
       "      <th>etest_p</th>\n",
       "      <th>mba_p</th>\n",
       "      <th>salary</th>\n",
       "    </tr>\n",
       "  </thead>\n",
       "  <tbody>\n",
       "    <tr>\n",
       "      <th>Mean</th>\n",
       "      <td>108</td>\n",
       "      <td>67.3034</td>\n",
       "      <td>66.3332</td>\n",
       "      <td>66.3702</td>\n",
       "      <td>72.1006</td>\n",
       "      <td>62.2782</td>\n",
       "      <td>198702</td>\n",
       "    </tr>\n",
       "    <tr>\n",
       "      <th>Median</th>\n",
       "      <td>108</td>\n",
       "      <td>67</td>\n",
       "      <td>65</td>\n",
       "      <td>66</td>\n",
       "      <td>71</td>\n",
       "      <td>62</td>\n",
       "      <td>240000</td>\n",
       "    </tr>\n",
       "    <tr>\n",
       "      <th>Mode</th>\n",
       "      <td>1</td>\n",
       "      <td>62</td>\n",
       "      <td>63</td>\n",
       "      <td>65</td>\n",
       "      <td>60</td>\n",
       "      <td>56.7</td>\n",
       "      <td>0</td>\n",
       "    </tr>\n",
       "    <tr>\n",
       "      <th>25th</th>\n",
       "      <td>54.5</td>\n",
       "      <td>60.6</td>\n",
       "      <td>60.9</td>\n",
       "      <td>61</td>\n",
       "      <td>60</td>\n",
       "      <td>57.945</td>\n",
       "      <td>0</td>\n",
       "    </tr>\n",
       "    <tr>\n",
       "      <th>50th</th>\n",
       "      <td>108</td>\n",
       "      <td>67</td>\n",
       "      <td>65</td>\n",
       "      <td>66</td>\n",
       "      <td>71</td>\n",
       "      <td>62</td>\n",
       "      <td>240000</td>\n",
       "    </tr>\n",
       "    <tr>\n",
       "      <th>75th</th>\n",
       "      <td>161.5</td>\n",
       "      <td>75.7</td>\n",
       "      <td>73</td>\n",
       "      <td>72</td>\n",
       "      <td>83.5</td>\n",
       "      <td>66.255</td>\n",
       "      <td>282500</td>\n",
       "    </tr>\n",
       "    <tr>\n",
       "      <th>99th</th>\n",
       "      <td>212.86</td>\n",
       "      <td>87</td>\n",
       "      <td>91.86</td>\n",
       "      <td>83.86</td>\n",
       "      <td>97</td>\n",
       "      <td>76.1142</td>\n",
       "      <td>629000</td>\n",
       "    </tr>\n",
       "    <tr>\n",
       "      <th>100th</th>\n",
       "      <td>215</td>\n",
       "      <td>89.4</td>\n",
       "      <td>97.7</td>\n",
       "      <td>91</td>\n",
       "      <td>98</td>\n",
       "      <td>77.89</td>\n",
       "      <td>940000</td>\n",
       "    </tr>\n",
       "    <tr>\n",
       "      <th>IQR</th>\n",
       "      <td>107</td>\n",
       "      <td>15.1</td>\n",
       "      <td>12.1</td>\n",
       "      <td>11</td>\n",
       "      <td>23.5</td>\n",
       "      <td>8.31</td>\n",
       "      <td>282500</td>\n",
       "    </tr>\n",
       "    <tr>\n",
       "      <th>1.5IQR</th>\n",
       "      <td>160.5</td>\n",
       "      <td>22.65</td>\n",
       "      <td>18.15</td>\n",
       "      <td>16.5</td>\n",
       "      <td>35.25</td>\n",
       "      <td>12.465</td>\n",
       "      <td>423750</td>\n",
       "    </tr>\n",
       "    <tr>\n",
       "      <th>Lesser</th>\n",
       "      <td>-106</td>\n",
       "      <td>37.95</td>\n",
       "      <td>42.75</td>\n",
       "      <td>44.5</td>\n",
       "      <td>24.75</td>\n",
       "      <td>45.48</td>\n",
       "      <td>-423750</td>\n",
       "    </tr>\n",
       "    <tr>\n",
       "      <th>Greater</th>\n",
       "      <td>322</td>\n",
       "      <td>98.35</td>\n",
       "      <td>91.15</td>\n",
       "      <td>88.5</td>\n",
       "      <td>118.75</td>\n",
       "      <td>78.72</td>\n",
       "      <td>706250</td>\n",
       "    </tr>\n",
       "    <tr>\n",
       "      <th>Min</th>\n",
       "      <td>1</td>\n",
       "      <td>40.89</td>\n",
       "      <td>37</td>\n",
       "      <td>50</td>\n",
       "      <td>50</td>\n",
       "      <td>51.21</td>\n",
       "      <td>0</td>\n",
       "    </tr>\n",
       "    <tr>\n",
       "      <th>Max</th>\n",
       "      <td>215</td>\n",
       "      <td>89.4</td>\n",
       "      <td>97.7</td>\n",
       "      <td>91</td>\n",
       "      <td>98</td>\n",
       "      <td>77.89</td>\n",
       "      <td>940000</td>\n",
       "    </tr>\n",
       "    <tr>\n",
       "      <th>Std</th>\n",
       "      <td>62.2093</td>\n",
       "      <td>10.8272</td>\n",
       "      <td>10.8975</td>\n",
       "      <td>7.35874</td>\n",
       "      <td>13.276</td>\n",
       "      <td>5.83338</td>\n",
       "      <td>154781</td>\n",
       "    </tr>\n",
       "    <tr>\n",
       "      <th>Variance</th>\n",
       "      <td>3870</td>\n",
       "      <td>117.228</td>\n",
       "      <td>118.756</td>\n",
       "      <td>54.1511</td>\n",
       "      <td>176.251</td>\n",
       "      <td>34.0284</td>\n",
       "      <td>2.39571e+10</td>\n",
       "    </tr>\n",
       "  </tbody>\n",
       "</table>\n",
       "</div>"
      ],
      "text/plain": [
       "            sl_no    ssc_p    hsc_p degree_p  etest_p    mba_p       salary\n",
       "Mean          108  67.3034  66.3332  66.3702  72.1006  62.2782       198702\n",
       "Median        108       67       65       66       71       62       240000\n",
       "Mode            1       62       63       65       60     56.7            0\n",
       "25th         54.5     60.6     60.9       61       60   57.945            0\n",
       "50th          108       67       65       66       71       62       240000\n",
       "75th        161.5     75.7       73       72     83.5   66.255       282500\n",
       "99th       212.86       87    91.86    83.86       97  76.1142       629000\n",
       "100th         215     89.4     97.7       91       98    77.89       940000\n",
       "IQR           107     15.1     12.1       11     23.5     8.31       282500\n",
       "1.5IQR      160.5    22.65    18.15     16.5    35.25   12.465       423750\n",
       "Lesser       -106    37.95    42.75     44.5    24.75    45.48      -423750\n",
       "Greater       322    98.35    91.15     88.5   118.75    78.72       706250\n",
       "Min             1    40.89       37       50       50    51.21            0\n",
       "Max           215     89.4     97.7       91       98    77.89       940000\n",
       "Std       62.2093  10.8272  10.8975  7.35874   13.276  5.83338       154781\n",
       "Variance     3870  117.228  118.756  54.1511  176.251  34.0284  2.39571e+10"
      ]
     },
     "execution_count": 5,
     "metadata": {},
     "output_type": "execute_result"
    }
   ],
   "source": [
    "Uni"
   ]
  },
  {
   "cell_type": "code",
   "execution_count": 6,
   "id": "c30fd6de",
   "metadata": {},
   "outputs": [
    {
     "data": {
      "text/plain": [
       "True"
      ]
     },
     "execution_count": 6,
     "metadata": {},
     "output_type": "execute_result"
    }
   ],
   "source": [
    "Uni[\"ssc_p\"][\"Lesser\"]<Uni[\"ssc_p\"][\"Min\"]"
   ]
  },
  {
   "cell_type": "code",
   "execution_count": 7,
   "id": "a9403cf0",
   "metadata": {},
   "outputs": [],
   "source": [
    "lesser=[]\n",
    "greater=[]\n",
    "\n",
    "for columName in quan:\n",
    "    if(Uni[columName][\"Lesser\"]>Uni[columName][\"Min\"]):\n",
    "        lesser.append(columName)\n",
    "    if(Uni[columName][\"Greater\"]<Uni[columName][\"Max\"]):\n",
    "        greater.append(columName)\n",
    "        "
   ]
  },
  {
   "cell_type": "code",
   "execution_count": null,
   "id": "6e1715df",
   "metadata": {},
   "outputs": [],
   "source": [
    "lesser"
   ]
  },
  {
   "cell_type": "code",
   "execution_count": null,
   "id": "6bba9f43",
   "metadata": {},
   "outputs": [],
   "source": [
    "greater"
   ]
  },
  {
   "cell_type": "code",
   "execution_count": null,
   "id": "4adbe451",
   "metadata": {},
   "outputs": [],
   "source": [
    "#dataset[\"ssc_p\"][dataset[\"ssc_p\"]>Uni[\"ssc_p\"][\"Lesser\"]]=Uni[\"ssc_p\"][\"Lesser\"]\n",
    "dataset"
   ]
  },
  {
   "cell_type": "code",
   "execution_count": null,
   "id": "f9501948",
   "metadata": {},
   "outputs": [],
   "source": [
    "for lesscolumn in lesser:\n",
    "    dataset[lesscolumn][dataset[lesscolumn]<Uni[lesscolumn][\"Lesser\"]]=Uni[lesscolumn][\"Lesser\"]\n",
    "for greatercolum in greater:\n",
    "    dataset[greatercolum][dataset[greatercolum]>Uni[greatercolum][\"Greater\"]]=Uni[greatercolum][\"Greater\"]\n",
    "    \n",
    "    "
   ]
  },
  {
   "cell_type": "code",
   "execution_count": null,
   "id": "d5f2a29f",
   "metadata": {},
   "outputs": [],
   "source": [
    "Uni_after=obj.uniAnalysis(dataset,quan)"
   ]
  },
  {
   "cell_type": "code",
   "execution_count": null,
   "id": "fd42d4c4",
   "metadata": {
    "scrolled": true
   },
   "outputs": [],
   "source": [
    "Uni_after"
   ]
  },
  {
   "cell_type": "code",
   "execution_count": null,
   "id": "756ffd5a",
   "metadata": {},
   "outputs": [],
   "source": [
    "lesser=[]\n",
    "greater=[]\n",
    "\n",
    "for columName in quan:\n",
    "    if(Uni_after[columName][\"Lesser\"]>Uni_after[columName][\"Min\"]):\n",
    "        lesser.append(columName)\n",
    "    if(Uni_after[columName][\"Greater\"]<Uni_after[columName][\"Max\"]):\n",
    "        greater.append(columName)\n",
    "        "
   ]
  },
  {
   "cell_type": "code",
   "execution_count": null,
   "id": "1f08c33c",
   "metadata": {},
   "outputs": [],
   "source": [
    "lesser"
   ]
  },
  {
   "cell_type": "code",
   "execution_count": null,
   "id": "2690a416",
   "metadata": {},
   "outputs": [],
   "source": [
    "greater"
   ]
  },
  {
   "cell_type": "code",
   "execution_count": null,
   "id": "2e276870",
   "metadata": {},
   "outputs": [],
   "source": [
    "dataset.to_csv(\"Pre_processed_Placement.csv\",index=False)"
   ]
  },
  {
   "cell_type": "code",
   "execution_count": 8,
   "id": "aad568eb",
   "metadata": {},
   "outputs": [
    {
     "data": {
      "text/plain": [
       "sl_no       0.000000\n",
       "ssc_p      -0.132649\n",
       "hsc_p       0.163639\n",
       "degree_p    0.244917\n",
       "etest_p     0.282308\n",
       "mba_p       0.313576\n",
       "salary      0.446646\n",
       "dtype: float64"
      ]
     },
     "execution_count": 8,
     "metadata": {},
     "output_type": "execute_result"
    }
   ],
   "source": [
    "#skew<0--Negative --Mean --left\n",
    "#skew>0--Postive--Mode --Right\n",
    "#skew=0--Normal--equal values --Center\n",
    "dataset.skew()"
   ]
  },
  {
   "cell_type": "code",
   "execution_count": 9,
   "id": "37701124",
   "metadata": {},
   "outputs": [
    {
     "data": {
      "text/plain": [
       "sl_no      -1.200000\n",
       "ssc_p      -0.607510\n",
       "hsc_p       0.450765\n",
       "degree_p    0.052143\n",
       "etest_p    -1.088580\n",
       "mba_p      -0.470723\n",
       "salary      1.655889\n",
       "dtype: float64"
      ]
     },
     "execution_count": 9,
     "metadata": {},
     "output_type": "execute_result"
    }
   ],
   "source": [
    "#kurtosis<3--PlatyKurtic\n",
    "#Kurtosis>3 --Laptokurtic\n",
    "#kurtosis=3 --mesokurtic\n",
    "dataset.kurtosis()"
   ]
  },
  {
   "cell_type": "code",
   "execution_count": 12,
   "id": "9698c665",
   "metadata": {},
   "outputs": [
    {
     "name": "stderr",
     "output_type": "stream",
     "text": [
      "C:\\Anaconda3\\envs\\ML\\lib\\site-packages\\seaborn\\distributions.py:2619: FutureWarning: `distplot` is a deprecated function and will be removed in a future version. Please adapt your code to use either `displot` (a figure-level function with similar flexibility) or `histplot` (an axes-level function for histograms).\n",
      "  warnings.warn(msg, FutureWarning)\n"
     ]
    },
    {
     "data": {
      "text/plain": [
       "<matplotlib.axes._subplots.AxesSubplot at 0x29718522e88>"
      ]
     },
     "execution_count": 12,
     "metadata": {},
     "output_type": "execute_result"
    },
    {
     "data": {
      "image/png": "[encoded data removed]",
      "text/plain": [
       "<Figure size 432x288 with 1 Axes>"
      ]
     },
     "metadata": {
      "needs_background": "light"
     },
     "output_type": "display_data"
    }
   ],
   "source": [
    "import seaborn as sns\n",
    "sns.distplot(dataset[\"ssc_p\"])"
   ]
  },
  {
   "cell_type": "code",
   "execution_count": null,
   "id": "4f318f5d",
   "metadata": {},
   "outputs": [],
   "source": [
    "dataset[\"ssc_p\"].std()"
   ]
  },
  {
   "cell_type": "code",
   "execution_count": null,
   "id": "1895219c",
   "metadata": {},
   "outputs": [],
   "source": [
    "dataset[\"ssc_p\"].var()"
   ]
  },
  {
   "cell_type": "code",
   "execution_count": null,
   "id": "5b5e4509",
   "metadata": {},
   "outputs": [],
   "source": []
  }
 ],
 "metadata": {
  "kernelspec": {
   "display_name": "Python 3 (ipykernel)",
   "language": "python",
   "name": "python3"
  },
  "language_info": {
   "codemirror_mode": {
    "name": "ipython",
    "version": 3
   },
   "file_extension": ".py",
   "mimetype": "text/x-python",
   "name": "python",
   "nbconvert_exporter": "python",
   "pygments_lexer": "ipython3",
   "version": "3.7.6"
  }
 },
 "nbformat": 4,
 "nbformat_minor": 5
}
